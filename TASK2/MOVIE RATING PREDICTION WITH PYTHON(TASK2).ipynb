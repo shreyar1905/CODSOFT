{
  "nbformat": 4,
  "nbformat_minor": 0,
  "metadata": {
    "colab": {
      "provenance": []
    },
    "kernelspec": {
      "name": "python3",
      "display_name": "Python 3"
    },
    "language_info": {
      "name": "python"
    }
  },
  "cells": [
    {
      "cell_type": "code",
      "execution_count": 1,
      "metadata": {
        "colab": {
          "base_uri": "https://localhost:8080/"
        },
        "id": "kN3Rmi4k8b0U",
        "outputId": "3bcc1ae6-1544-454f-d1a5-01faacd84f03"
      },
      "outputs": [
        {
          "output_type": "stream",
          "name": "stdout",
          "text": [
            "Requirement already satisfied: kagglehub in /usr/local/lib/python3.11/dist-packages (0.3.12)\n",
            "Requirement already satisfied: pandas in /usr/local/lib/python3.11/dist-packages (2.2.2)\n",
            "Requirement already satisfied: scikit-learn in /usr/local/lib/python3.11/dist-packages (1.6.1)\n",
            "Requirement already satisfied: packaging in /usr/local/lib/python3.11/dist-packages (from kagglehub) (24.2)\n",
            "Requirement already satisfied: pyyaml in /usr/local/lib/python3.11/dist-packages (from kagglehub) (6.0.2)\n",
            "Requirement already satisfied: requests in /usr/local/lib/python3.11/dist-packages (from kagglehub) (2.32.3)\n",
            "Requirement already satisfied: tqdm in /usr/local/lib/python3.11/dist-packages (from kagglehub) (4.67.1)\n",
            "Requirement already satisfied: numpy>=1.23.2 in /usr/local/lib/python3.11/dist-packages (from pandas) (2.0.2)\n",
            "Requirement already satisfied: python-dateutil>=2.8.2 in /usr/local/lib/python3.11/dist-packages (from pandas) (2.9.0.post0)\n",
            "Requirement already satisfied: pytz>=2020.1 in /usr/local/lib/python3.11/dist-packages (from pandas) (2025.2)\n",
            "Requirement already satisfied: tzdata>=2022.7 in /usr/local/lib/python3.11/dist-packages (from pandas) (2025.2)\n",
            "Requirement already satisfied: scipy>=1.6.0 in /usr/local/lib/python3.11/dist-packages (from scikit-learn) (1.15.3)\n",
            "Requirement already satisfied: joblib>=1.2.0 in /usr/local/lib/python3.11/dist-packages (from scikit-learn) (1.5.1)\n",
            "Requirement already satisfied: threadpoolctl>=3.1.0 in /usr/local/lib/python3.11/dist-packages (from scikit-learn) (3.6.0)\n",
            "Requirement already satisfied: six>=1.5 in /usr/local/lib/python3.11/dist-packages (from python-dateutil>=2.8.2->pandas) (1.17.0)\n",
            "Requirement already satisfied: charset-normalizer<4,>=2 in /usr/local/lib/python3.11/dist-packages (from requests->kagglehub) (3.4.2)\n",
            "Requirement already satisfied: idna<4,>=2.5 in /usr/local/lib/python3.11/dist-packages (from requests->kagglehub) (3.10)\n",
            "Requirement already satisfied: urllib3<3,>=1.21.1 in /usr/local/lib/python3.11/dist-packages (from requests->kagglehub) (2.4.0)\n",
            "Requirement already satisfied: certifi>=2017.4.17 in /usr/local/lib/python3.11/dist-packages (from requests->kagglehub) (2025.6.15)\n"
          ]
        }
      ],
      "source": [
        "pip install kagglehub pandas scikit-learn\n"
      ]
    },
    {
      "cell_type": "code",
      "source": [
        "import os\n",
        "\n",
        "\n",
        "print(\"Files in dataset folder:\")\n",
        "for root, dirs, files in os.walk(path):\n",
        "    for name in files:\n",
        "        print(os.path.join(root, name))\n"
      ],
      "metadata": {
        "colab": {
          "base_uri": "https://localhost:8080/"
        },
        "id": "TBtyH70z9Hhh",
        "outputId": "61af2b89-60a2-4715-c683-37107734911e"
      },
      "execution_count": 3,
      "outputs": [
        {
          "output_type": "stream",
          "name": "stdout",
          "text": [
            "Files in dataset folder:\n",
            "/root/.cache/kagglehub/datasets/adrianmcmahon/imdb-india-movies/versions/1/IMDb Movies India.csv\n"
          ]
        }
      ]
    },
    {
      "cell_type": "code",
      "source": [
        "print(df.columns.tolist())\n"
      ],
      "metadata": {
        "colab": {
          "base_uri": "https://localhost:8080/"
        },
        "id": "rBfes1Ms_Sr_",
        "outputId": "610c2776-f4eb-4791-ec8f-8fe2c45847c9"
      },
      "execution_count": 10,
      "outputs": [
        {
          "output_type": "stream",
          "name": "stdout",
          "text": [
            "['Name', 'Year', 'runtime', 'genre', 'rating', 'Votes', 'director', 'actor', 'Actor 2', 'Actor 3']\n"
          ]
        }
      ]
    },
    {
      "cell_type": "code",
      "source": [
        "import kagglehub\n",
        "import numpy as np\n",
        "import pandas as pd\n",
        "import os\n",
        "from sklearn.model_selection import train_test_split\n",
        "from sklearn.preprocessing import LabelEncoder\n",
        "from sklearn.ensemble import RandomForestRegressor\n",
        "from sklearn.metrics import mean_squared_error, r2_score\n",
        "from sklearn.preprocessing import LabelEncoder\n",
        "from sklearn.model_selection import train_test_split\n",
        "from sklearn.ensemble import RandomForestRegressor\n",
        "from sklearn.metrics import mean_squared_error, r2_score\n",
        "\n",
        "path = kagglehub.dataset_download(\"adrianmcmahon/imdb-india-movies\")\n",
        "print(\"Dataset downloaded to:\", path)\n",
        "csv_file = \"/root/.cache/kagglehub/datasets/adrianmcmahon/imdb-india-movies/versions/1/IMDb Movies India.csv\"\n",
        "df = pd.read_csv(csv_file, encoding='latin1')\n",
        "print(df.head())\n",
        "df = df.dropna(subset=['Name', 'Year', 'Duration', 'Genre', 'Rating', 'Votes', 'Director', 'Actor 1', 'Actor 2', 'Actor 3'])\n",
        "df = df.rename(columns={\n",
        "    \"Genre\": \"genre\",\n",
        "    \"Director\": \"director\",\n",
        "    \"Actor 1\": \"actor\",\n",
        "    \"Duration\": \"runtime\",\n",
        "    \"Rating\": \"rating\"\n",
        "})\n",
        "df[\"runtime\"] = df[\"runtime\"].str.replace(\"min\", \"\").str.strip()\n",
        "df[\"runtime\"] = pd.to_numeric(df[\"runtime\"], errors=\"coerce\")\n",
        "df = df.dropna(subset=[\"runtime\"])\n",
        "df[\"runtime\"] = df[\"runtime\"].astype(int)\n",
        "\n",
        "\n",
        "\n",
        "le_genre = LabelEncoder()\n",
        "le_director = LabelEncoder()\n",
        "le_actor = LabelEncoder()\n",
        "df[\"genre\"] = le_genre.fit_transform(df[\"genre\"])\n",
        "df[\"director\"] = le_director.fit_transform(df[\"director\"])\n",
        "df[\"actor\"] = le_actor.fit_transform(df[\"actor\"])\n",
        "X = df[[\"genre\", \"director\", \"actor\", \"runtime\"]]\n",
        "y = df[\"rating\"]\n",
        "\n",
        "X_train, X_test, y_train, y_test = train_test_split(X, y, test_size=0.2, random_state=42)\n",
        "model = RandomForestRegressor(n_estimators=100, random_state=42)\n",
        "model.fit(X_train, y_train)\n",
        "y_pred = model.predict(X_test)\n",
        "mse = mean_squared_error(y_test, y_pred)\n",
        "r2 = r2_score(y_test, y_pred)\n",
        "print(f\"\\n Model Performance:\")\n",
        "print(f\"• Mean Squared Error: {mse:.2f}\")\n",
        "print(f\"• R² Score: {r2:.2f}\")\n",
        "sample_input = pd.DataFrame(np.array([[2, 10, 5, 120]]), columns=[\"genre\", \"director\", \"actor\", \"runtime\"])\n",
        "predicted_rating = model.predict(sample_input)[0]\n",
        "print(f\"\\n Predicted Rating for Sample Movie: {predicted_rating:.2f}\")\n",
        "\n",
        "\n",
        "\n"
      ],
      "metadata": {
        "colab": {
          "base_uri": "https://localhost:8080/"
        },
        "id": "g_bYg7tx9ONH",
        "outputId": "977bf12b-310d-45e5-baca-0b82ca085f10"
      },
      "execution_count": 14,
      "outputs": [
        {
          "output_type": "stream",
          "name": "stdout",
          "text": [
            "Dataset downloaded to: /kaggle/input/imdb-india-movies\n",
            "                                 Name    Year Duration            Genre  \\\n",
            "0                                         NaN      NaN            Drama   \n",
            "1  #Gadhvi (He thought he was Gandhi)  (2019)  109 min            Drama   \n",
            "2                         #Homecoming  (2021)   90 min   Drama, Musical   \n",
            "3                             #Yaaram  (2019)  110 min  Comedy, Romance   \n",
            "4                   ...And Once Again  (2010)  105 min            Drama   \n",
            "\n",
            "   Rating Votes            Director       Actor 1             Actor 2  \\\n",
            "0     NaN   NaN       J.S. Randhawa      Manmauji              Birbal   \n",
            "1     7.0     8       Gaurav Bakshi  Rasika Dugal      Vivek Ghamande   \n",
            "2     NaN   NaN  Soumyajit Majumdar  Sayani Gupta   Plabita Borthakur   \n",
            "3     4.4    35          Ovais Khan       Prateik          Ishita Raj   \n",
            "4     NaN   NaN        Amol Palekar  Rajat Kapoor  Rituparna Sengupta   \n",
            "\n",
            "           Actor 3  \n",
            "0  Rajendra Bhatia  \n",
            "1    Arvind Jangid  \n",
            "2       Roy Angana  \n",
            "3  Siddhant Kapoor  \n",
            "4      Antara Mali  \n",
            "\n",
            " Model Performance:\n",
            "• Mean Squared Error: 1.74\n",
            "• R² Score: 0.06\n",
            "\n",
            " Predicted Rating for Sample Movie: 5.66\n"
          ]
        }
      ]
    }
  ]
}